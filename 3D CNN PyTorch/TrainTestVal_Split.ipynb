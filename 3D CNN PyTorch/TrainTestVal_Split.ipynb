{
  "cells": [
    {
      "cell_type": "code",
      "execution_count": null,
      "id": "9c08ac2a-13ae-4ba6-9b1e-b93bc3f06153",
      "metadata": {
        "tags": [],
        "id": "9c08ac2a-13ae-4ba6-9b1e-b93bc3f06153"
      },
      "outputs": [],
      "source": [
        "import os\n",
        "import random\n",
        "import shutil\n",
        "from tqdm import tqdm"
      ]
    },
    {
      "cell_type": "code",
      "execution_count": null,
      "id": "9baebc11-63a8-43f1-9148-c3311886b146",
      "metadata": {
        "tags": [],
        "id": "9baebc11-63a8-43f1-9148-c3311886b146"
      },
      "outputs": [],
      "source": [
        "# Set the directories for the original videos and the new train/val/test directories\n",
        "original_dir = \"./Yoga_Videos/\"\n",
        "train_dir = \"./Train/\"\n",
        "val_dir = \"./Val/\"\n",
        "test_dir = \"./Test/\""
      ]
    },
    {
      "cell_type": "code",
      "execution_count": null,
      "id": "263d1eea-97a6-4575-b72e-a78fd042d806",
      "metadata": {
        "tags": [],
        "id": "263d1eea-97a6-4575-b72e-a78fd042d806"
      },
      "outputs": [],
      "source": [
        "# Set the percentage split for train/validation/test\n",
        "train_pct = 0.8\n",
        "val_pct = 0.1\n",
        "test_pct = 0.1"
      ]
    },
    {
      "cell_type": "code",
      "execution_count": null,
      "id": "edab12c7-a2e9-4eaa-8c2d-12911ae11c4d",
      "metadata": {
        "tags": [],
        "id": "edab12c7-a2e9-4eaa-8c2d-12911ae11c4d"
      },
      "outputs": [],
      "source": [
        "# Get a list of all the videos in the original directory\n",
        "videos = os.listdir(original_dir)\n",
        "\n",
        "# Shuffle the list of videos randomly\n",
        "random.shuffle(videos)\n",
        "\n",
        "# Split the list of videos into train/validation/test lists based on the percentages set above\n",
        "train_videos = videos[:int(len(videos)*train_pct)]\n",
        "val_videos = videos[int(len(videos)*train_pct):int(len(videos)*(train_pct+val_pct))]\n",
        "test_videos = videos[int(len(videos)*(train_pct+val_pct)):]\n",
        "\n",
        "# Create the train/validation/test directories if they don't already exist\n",
        "if not os.path.exists(train_dir):\n",
        "    os.makedirs(train_dir)\n",
        "if not os.path.exists(val_dir):\n",
        "    os.makedirs(val_dir)\n",
        "if not os.path.exists(test_dir):\n",
        "    os.makedirs(test_dir)"
      ]
    },
    {
      "cell_type": "code",
      "execution_count": null,
      "id": "03c9763a-caa5-442a-b7dc-71a0ec1bf5ec",
      "metadata": {
        "tags": [],
        "id": "03c9763a-caa5-442a-b7dc-71a0ec1bf5ec"
      },
      "outputs": [],
      "source": [
        "# Loop through the train/validation/test lists and move the videos to the appropriate directories, renaming them as needed\n",
        "for video in tqdm(train_videos, desc=\"Moving Train Videos\"):\n",
        "    classname = video.split(\"_\")[0]\n",
        "    video_name = video.split(\"_\")[1]\n",
        "    shutil.move(os.path.join(original_dir, video), os.path.join(train_dir, f\"{classname}_{video_name}\"))\n",
        "\n",
        "for video in tqdm(val_videos, desc=\"Moving Validation Videos\"):\n",
        "    classname = video.split(\"_\")[0]\n",
        "    video_name = video.split(\"_\")[1]\n",
        "    shutil.move(os.path.join(original_dir, video), os.path.join(val_dir, f\"{classname}_{video_name}\"))\n",
        "\n",
        "for video in tqdm(test_videos, desc=\"Moving Test Videos\"):\n",
        "    classname = video.split(\"_\")[0]\n",
        "    video_name = video.split(\"_\")[1]\n",
        "    shutil.move(os.path.join(original_dir, video), os.path.join(test_dir, f\"{classname}_{video_name}\"))"
      ]
    },
    {
      "cell_type": "code",
      "execution_count": null,
      "id": "447f75bd-f1fa-4f83-b3ae-981355917027",
      "metadata": {
        "id": "447f75bd-f1fa-4f83-b3ae-981355917027"
      },
      "outputs": [],
      "source": []
    }
  ],
  "metadata": {
    "kernelspec": {
      "display_name": "Python 3 (ipykernel)",
      "language": "python",
      "name": "python3"
    },
    "language_info": {
      "codemirror_mode": {
        "name": "ipython",
        "version": 3
      },
      "file_extension": ".py",
      "mimetype": "text/x-python",
      "name": "python",
      "nbconvert_exporter": "python",
      "pygments_lexer": "ipython3",
      "version": "3.8.10"
    },
    "colab": {
      "provenance": []
    }
  },
  "nbformat": 4,
  "nbformat_minor": 5
}